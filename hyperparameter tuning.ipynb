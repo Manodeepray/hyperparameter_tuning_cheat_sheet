{
 "cells": [
  {
   "cell_type": "code",
   "execution_count": 13,
   "id": "35b4c6bc",
   "metadata": {},
   "outputs": [],
   "source": [
    "import keras_tuner as kt\n",
    "import tensorflow as tf\n",
    "from tensorflow.keras.layers import  Flatten , Dense\n",
    "from tensorflow.keras.models import Sequential\n"
   ]
  },
  {
   "cell_type": "code",
   "execution_count": 5,
   "id": "a889e0e0",
   "metadata": {},
   "outputs": [
    {
     "name": "stdout",
     "output_type": "stream",
     "text": [
      "Downloading data from https://storage.googleapis.com/tensorflow/tf-keras-datasets/mnist.npz\n",
      "11490434/11490434 [==============================] - 2s 0us/step\n"
     ]
    }
   ],
   "source": [
    "(x_train , y_train) , (x_test , y_test) = tf.keras.datasets.mnist.load_data()"
   ]
  },
  {
   "cell_type": "code",
   "execution_count": 6,
   "id": "26ce8a85",
   "metadata": {},
   "outputs": [
    {
     "data": {
      "text/plain": [
       "(((60000, 28, 28), (60000,)), ((10000, 28, 28), (10000,)))"
      ]
     },
     "execution_count": 6,
     "metadata": {},
     "output_type": "execute_result"
    }
   ],
   "source": [
    "(x_train.shape , y_train.shape) , (x_test.shape , y_test.shape)"
   ]
  },
  {
   "cell_type": "code",
   "execution_count": 7,
   "id": "158ef131",
   "metadata": {},
   "outputs": [],
   "source": [
    "x_train = x_train/255.0\n",
    "x_test = x_test/255.0"
   ]
  },
  {
   "cell_type": "code",
   "execution_count": 24,
   "id": "7c02414d",
   "metadata": {},
   "outputs": [],
   "source": [
    "def model_builder(hp):\n",
    "    model= Sequential()\n",
    "    model.add(tf.keras.layers.Flatten(input_shape = (28,28)))\n",
    "    \n",
    "    \n",
    "    hp_activation = hp.Choice('activation',values = ['relu','tanh'])\n",
    "    \n",
    "    hp_layer_1 = hp.Int('layer_1',min_value = 1 , max_value = 1000 , step = 100)\n",
    "    hp_layer_2 = hp.Int('layer_2',min_value = 1 , max_value = 1000 , step = 100)\n",
    "    hp_learning_rate = hp.Choice('learning_rate' , values = [1e-2,1e-3,1e-4])\n",
    "\n",
    "    model.add(tf.keras.layers.Dense(units = hp_layer_1 , activation = hp_activation ))\n",
    "    model.add(tf.keras.layers.Dense(units = hp_layer_2 , activation = hp_activation ))\n",
    "    model.add(tf.keras.layers.Dense(units = 10 , activation = 'softmax' ))\n",
    "    \n",
    "    model.compile(optimizer = tf.keras.optimizers.Adam(learning_rate =hp_learning_rate ),\n",
    "                 loss = tf.keras.losses.SparseCategoricalCrossentropy(),\n",
    "                 metrics = ['accuracy'])\n",
    "    model.summary()\n",
    "    return model"
   ]
  },
  {
   "cell_type": "code",
   "execution_count": 25,
   "id": "d18e00a1",
   "metadata": {},
   "outputs": [
    {
     "name": "stdout",
     "output_type": "stream",
     "text": [
      "Model: \"sequential_4\"\n",
      "_________________________________________________________________\n",
      " Layer (type)                Output Shape              Param #   \n",
      "=================================================================\n",
      " flatten_4 (Flatten)         (None, 784)               0         \n",
      "                                                                 \n",
      " dense_9 (Dense)             (None, 1)                 785       \n",
      "                                                                 \n",
      " dense_10 (Dense)            (None, 1)                 2         \n",
      "                                                                 \n",
      " dense_11 (Dense)            (None, 10)                20        \n",
      "                                                                 \n",
      "=================================================================\n",
      "Total params: 807 (3.15 KB)\n",
      "Trainable params: 807 (3.15 KB)\n",
      "Non-trainable params: 0 (0.00 Byte)\n",
      "_________________________________________________________________\n"
     ]
    }
   ],
   "source": [
    "tuner = kt.Hyperband(model_builder,\n",
    "                    objective = 'val_accuracy',\n",
    "                    max_epochs = 10,\n",
    "                    factor = 3,\n",
    "                    directory = 'dir',\n",
    "                    project_name = 'x')"
   ]
  },
  {
   "cell_type": "code",
   "execution_count": 26,
   "id": "ecd2bc8c",
   "metadata": {},
   "outputs": [],
   "source": [
    "stop_early = tf.keras.callbacks.EarlyStopping(monitor = 'val_loss' , patience = 3)\n"
   ]
  },
  {
   "cell_type": "code",
   "execution_count": 27,
   "id": "d9d79795",
   "metadata": {},
   "outputs": [
    {
     "name": "stdout",
     "output_type": "stream",
     "text": [
      "Trial 30 Complete [00h 03m 21s]\n",
      "val_accuracy: 0.9733333587646484\n",
      "\n",
      "Best val_accuracy So Far: 0.9775000214576721\n",
      "Total elapsed time: 00h 21m 45s\n"
     ]
    }
   ],
   "source": [
    "tuner.search(x_train , y_train , epochs = 50  , validation_split = 0.2 , callbacks = [stop_early])"
   ]
  },
  {
   "cell_type": "code",
   "execution_count": 28,
   "id": "fef2128b",
   "metadata": {},
   "outputs": [],
   "source": [
    "best_hps = tuner.get_best_hyperparameters(num_trials = 1)[0]"
   ]
  },
  {
   "cell_type": "code",
   "execution_count": 29,
   "id": "8145b2ce",
   "metadata": {},
   "outputs": [
    {
     "data": {
      "text/plain": [
       "<keras_tuner.src.engine.hyperparameters.hyperparameters.HyperParameters at 0x2372feb1110>"
      ]
     },
     "execution_count": 29,
     "metadata": {},
     "output_type": "execute_result"
    }
   ],
   "source": [
    "best_hps"
   ]
  },
  {
   "cell_type": "code",
   "execution_count": 30,
   "id": "9d8a936b",
   "metadata": {},
   "outputs": [
    {
     "name": "stdout",
     "output_type": "stream",
     "text": [
      "Model: \"sequential_1\"\n",
      "_________________________________________________________________\n",
      " Layer (type)                Output Shape              Param #   \n",
      "=================================================================\n",
      " flatten_1 (Flatten)         (None, 784)               0         \n",
      "                                                                 \n",
      " dense_3 (Dense)             (None, 901)               707285    \n",
      "                                                                 \n",
      " dense_4 (Dense)             (None, 501)               451902    \n",
      "                                                                 \n",
      " dense_5 (Dense)             (None, 10)                5020      \n",
      "                                                                 \n",
      "=================================================================\n",
      "Total params: 1164207 (4.44 MB)\n",
      "Trainable params: 1164207 (4.44 MB)\n",
      "Non-trainable params: 0 (0.00 Byte)\n",
      "_________________________________________________________________\n"
     ]
    }
   ],
   "source": [
    "model = tuner.hypermodel.build(best_hps)"
   ]
  },
  {
   "cell_type": "code",
   "execution_count": 32,
   "id": "b54eb655",
   "metadata": {},
   "outputs": [
    {
     "name": "stdout",
     "output_type": "stream",
     "text": [
      "Epoch 1/50\n",
      "1500/1500 [==============================] - 23s 15ms/step - loss: 0.3359 - accuracy: 0.9105 - val_loss: 0.1689 - val_accuracy: 0.9523\n",
      "Epoch 2/50\n",
      "1500/1500 [==============================] - 21s 14ms/step - loss: 0.1386 - accuracy: 0.9602 - val_loss: 0.1204 - val_accuracy: 0.9659\n",
      "Epoch 3/50\n",
      "1500/1500 [==============================] - 18s 12ms/step - loss: 0.0922 - accuracy: 0.9734 - val_loss: 0.1048 - val_accuracy: 0.9693\n",
      "Epoch 4/50\n",
      "1500/1500 [==============================] - 18s 12ms/step - loss: 0.0657 - accuracy: 0.9812 - val_loss: 0.0890 - val_accuracy: 0.9735\n",
      "Epoch 5/50\n",
      "1500/1500 [==============================] - 18s 12ms/step - loss: 0.0476 - accuracy: 0.9862 - val_loss: 0.0820 - val_accuracy: 0.9749\n",
      "Epoch 6/50\n",
      "1500/1500 [==============================] - 18s 12ms/step - loss: 0.0350 - accuracy: 0.9902 - val_loss: 0.0769 - val_accuracy: 0.9768\n",
      "Epoch 7/50\n",
      "1500/1500 [==============================] - 18s 12ms/step - loss: 0.0261 - accuracy: 0.9930 - val_loss: 0.0771 - val_accuracy: 0.9764\n",
      "Epoch 8/50\n",
      "1500/1500 [==============================] - 20s 14ms/step - loss: 0.0187 - accuracy: 0.9954 - val_loss: 0.0775 - val_accuracy: 0.9775\n",
      "Epoch 9/50\n",
      "1500/1500 [==============================] - 19s 13ms/step - loss: 0.0147 - accuracy: 0.9962 - val_loss: 0.0756 - val_accuracy: 0.9780\n",
      "Epoch 10/50\n",
      "1500/1500 [==============================] - 18s 12ms/step - loss: 0.0105 - accuracy: 0.9976 - val_loss: 0.0877 - val_accuracy: 0.9748\n",
      "Epoch 11/50\n",
      "1500/1500 [==============================] - 18s 12ms/step - loss: 0.0092 - accuracy: 0.9975 - val_loss: 0.0852 - val_accuracy: 0.9760\n",
      "Epoch 12/50\n",
      "1500/1500 [==============================] - 19s 12ms/step - loss: 0.0064 - accuracy: 0.9986 - val_loss: 0.0835 - val_accuracy: 0.9796\n"
     ]
    }
   ],
   "source": [
    "history = model.fit(x_train ,y_train , epochs = 50 , validation_split = 0.2 , callbacks = [stop_early])"
   ]
  },
  {
   "cell_type": "code",
   "execution_count": 33,
   "id": "aebaaa84",
   "metadata": {},
   "outputs": [
    {
     "data": {
      "text/plain": [
       "{'loss': [0.3358514606952667,\n",
       "  0.13858941197395325,\n",
       "  0.09223749488592148,\n",
       "  0.06572352349758148,\n",
       "  0.047619327902793884,\n",
       "  0.034969866275787354,\n",
       "  0.026092959567904472,\n",
       "  0.018697567284107208,\n",
       "  0.014695745892822742,\n",
       "  0.01051856018602848,\n",
       "  0.009236058220267296,\n",
       "  0.006446673069149256],\n",
       " 'accuracy': [0.9104999899864197,\n",
       "  0.9601874947547913,\n",
       "  0.973395824432373,\n",
       "  0.9811875224113464,\n",
       "  0.9862083196640015,\n",
       "  0.9901875257492065,\n",
       "  0.9930416941642761,\n",
       "  0.995354175567627,\n",
       "  0.9962499737739563,\n",
       "  0.9976041913032532,\n",
       "  0.9975416660308838,\n",
       "  0.9986458420753479],\n",
       " 'val_loss': [0.1688825935125351,\n",
       "  0.12042882293462753,\n",
       "  0.10482382029294968,\n",
       "  0.08901070058345795,\n",
       "  0.08198689669370651,\n",
       "  0.0768558531999588,\n",
       "  0.07714326679706573,\n",
       "  0.07751260697841644,\n",
       "  0.07558439671993256,\n",
       "  0.08773920685052872,\n",
       "  0.08518388122320175,\n",
       "  0.08348570764064789],\n",
       " 'val_accuracy': [0.9522500038146973,\n",
       "  0.9659166932106018,\n",
       "  0.9693333506584167,\n",
       "  0.9735000133514404,\n",
       "  0.9749166369438171,\n",
       "  0.9768333435058594,\n",
       "  0.9764166474342346,\n",
       "  0.9775000214576721,\n",
       "  0.9779999852180481,\n",
       "  0.9748333096504211,\n",
       "  0.9760000109672546,\n",
       "  0.9795833230018616]}"
      ]
     },
     "execution_count": 33,
     "metadata": {},
     "output_type": "execute_result"
    }
   ],
   "source": [
    "history.history"
   ]
  },
  {
   "cell_type": "code",
   "execution_count": null,
   "id": "22430626",
   "metadata": {},
   "outputs": [],
   "source": []
  }
 ],
 "metadata": {
  "kernelspec": {
   "display_name": "Python 3 (ipykernel)",
   "language": "python",
   "name": "python3"
  },
  "language_info": {
   "codemirror_mode": {
    "name": "ipython",
    "version": 3
   },
   "file_extension": ".py",
   "mimetype": "text/x-python",
   "name": "python",
   "nbconvert_exporter": "python",
   "pygments_lexer": "ipython3",
   "version": "3.11.4"
  }
 },
 "nbformat": 4,
 "nbformat_minor": 5
}
